{
 "cells": [
  {
   "cell_type": "code",
   "execution_count": 1,
   "id": "44871fd6-21a0-4f75-9c5a-8ac77e852d65",
   "metadata": {},
   "outputs": [
    {
     "name": "stderr",
     "output_type": "stream",
     "text": [
      "D:\\projects\\searchEngine\\venv\\lib\\site-packages\\tqdm\\auto.py:21: TqdmWarning: IProgress not found. Please update jupyter and ipywidgets. See https://ipywidgets.readthedocs.io/en/stable/user_install.html\n",
      "  from .autonotebook import tqdm as notebook_tqdm\n"
     ]
    },
    {
     "name": "stdout",
     "output_type": "stream",
     "text": [
      "project_path.py D:\\projects\\searchEngine\n"
     ]
    }
   ],
   "source": [
    "import numpy as np\n",
    "from transformers import AutoTokenizer, AutoModel\n",
    "import  pandas as pd\n",
    "\n",
    "import faiss\n",
    "import pandas as pd\n",
    "import file_utils\n",
    "import document_db\n",
    "from project_path import PROJECT_PATH\n",
    "from annoy import AnnoyIndex\n"
   ]
  },
  {
   "cell_type": "code",
   "execution_count": 2,
   "id": "d9185441-4064-4378-9262-29eabb75678f",
   "metadata": {},
   "outputs": [
    {
     "ename": "NameError",
     "evalue": "name 'dimension' is not defined",
     "output_type": "error",
     "traceback": [
      "\u001b[1;31m---------------------------------------------------------------------------\u001b[0m",
      "\u001b[1;31mNameError\u001b[0m                                 Traceback (most recent call last)",
      "Cell \u001b[1;32mIn[2], line 1\u001b[0m\n\u001b[1;32m----> 1\u001b[0m index \u001b[38;5;241m=\u001b[39m AnnoyIndex(\u001b[43mdimension\u001b[49m, \u001b[38;5;124m'\u001b[39m\u001b[38;5;124mdot\u001b[39m\u001b[38;5;124m'\u001b[39m)  \u001b[38;5;66;03m# Using 'angular' distance\u001b[39;00m\n",
      "\u001b[1;31mNameError\u001b[0m: name 'dimension' is not defined"
     ]
    }
   ],
   "source": [
    "index = AnnoyIndex(dimension, 'dot')  # Using 'angular' distance\n"
   ]
  },
  {
   "cell_type": "code",
   "execution_count": 7,
   "id": "59d115ff-7157-4b06-a1ad-408d4351ad89",
   "metadata": {},
   "outputs": [
    {
     "data": {
      "text/plain": [
       "<annoy.Annoy at 0x25781ae4f90>"
      ]
     },
     "execution_count": 7,
     "metadata": {},
     "output_type": "execute_result"
    }
   ],
   "source": []
  },
  {
   "cell_type": "code",
   "execution_count": 11,
   "id": "14c24679-cbc6-483a-9423-438205f8ad21",
   "metadata": {},
   "outputs": [],
   "source": [
    "file = r'C:\\Users\\lenovo\\Downloads\\use_cases_file_12.csv'"
   ]
  },
  {
   "cell_type": "code",
   "execution_count": 12,
   "id": "ca5045a4-c972-43c9-b2d4-5451be83bdaf",
   "metadata": {},
   "outputs": [],
   "source": [
    "df = pd.read_csv(file)"
   ]
  },
  {
   "cell_type": "code",
   "execution_count": 18,
   "id": "f5fda8c7-b47b-4587-b000-8da67c82317a",
   "metadata": {},
   "outputs": [],
   "source": [
    "def text_df_from_df(df, text_columns,id_column):\n",
    "    cols2_df = []\n",
    "    for str_col in text_columns:\n",
    "        df[\"col_name\"] = str_col\n",
    "        str_col2_indexs = df.groupby([str_col,'col_name'])[id_column].apply(list).reset_index()\n",
    "        str_col2_indexs = str_col2_indexs.rename(columns={str_col: 'text', 'index': 'document_ids'})\n",
    "        cols2_df.append(str_col2_indexs)\n",
    "    text_indexes_df = pd.concat(cols2_df)\n",
    "    return text_indexes_df\n"
   ]
  },
  {
   "cell_type": "code",
   "execution_count": 25,
   "id": "8cdd4837-1bfa-4bca-93a2-753968be2ef3",
   "metadata": {},
   "outputs": [],
   "source": [
    "# df_reindex = df.reset_index()\n",
    "\n"
   ]
  },
  {
   "cell_type": "code",
   "execution_count": 26,
   "id": "c8fa9eb9-f04d-4a26-8f39-6602831be026",
   "metadata": {},
   "outputs": [
    {
     "data": {
      "text/html": [
       "<div>\n",
       "<style scoped>\n",
       "    .dataframe tbody tr th:only-of-type {\n",
       "        vertical-align: middle;\n",
       "    }\n",
       "\n",
       "    .dataframe tbody tr th {\n",
       "        vertical-align: top;\n",
       "    }\n",
       "\n",
       "    .dataframe thead th {\n",
       "        text-align: right;\n",
       "    }\n",
       "</style>\n",
       "<table border=\"1\" class=\"dataframe\">\n",
       "  <thead>\n",
       "    <tr style=\"text-align: right;\">\n",
       "      <th></th>\n",
       "      <th>text</th>\n",
       "      <th>col_name</th>\n",
       "      <th>Serial Number</th>\n",
       "    </tr>\n",
       "  </thead>\n",
       "  <tbody>\n",
       "    <tr>\n",
       "      <th>0</th>\n",
       "      <td>5-day tech transfer and marketing platform dep...</td>\n",
       "      <td>Use Case Name</td>\n",
       "      <td>[26]</td>\n",
       "    </tr>\n",
       "    <tr>\n",
       "      <th>1</th>\n",
       "      <td>Acquisition ITA with property data append</td>\n",
       "      <td>Use Case Name</td>\n",
       "      <td>[52]</td>\n",
       "    </tr>\n",
       "    <tr>\n",
       "      <th>2</th>\n",
       "      <td>Application pipeline analysis to forecast fund...</td>\n",
       "      <td>Use Case Name</td>\n",
       "      <td>[37]</td>\n",
       "    </tr>\n",
       "    <tr>\n",
       "      <th>3</th>\n",
       "      <td>Auto updating CRM contacts daily for personali...</td>\n",
       "      <td>Use Case Name</td>\n",
       "      <td>[18]</td>\n",
       "    </tr>\n",
       "    <tr>\n",
       "      <th>4</th>\n",
       "      <td>Bid portfolio pricing based on runoff and reca...</td>\n",
       "      <td>Use Case Name</td>\n",
       "      <td>[40]</td>\n",
       "    </tr>\n",
       "    <tr>\n",
       "      <th>...</th>\n",
       "      <td>...</td>\n",
       "      <td>...</td>\n",
       "      <td>...</td>\n",
       "    </tr>\n",
       "    <tr>\n",
       "      <th>50</th>\n",
       "      <td>Target Now</td>\n",
       "      <td>CTA Text</td>\n",
       "      <td>[5]</td>\n",
       "    </tr>\n",
       "    <tr>\n",
       "      <th>51</th>\n",
       "      <td>Track Applications</td>\n",
       "      <td>CTA Text</td>\n",
       "      <td>[16]</td>\n",
       "    </tr>\n",
       "    <tr>\n",
       "      <th>52</th>\n",
       "      <td>Track Attribution</td>\n",
       "      <td>CTA Text</td>\n",
       "      <td>[17]</td>\n",
       "    </tr>\n",
       "    <tr>\n",
       "      <th>53</th>\n",
       "      <td>Track Now</td>\n",
       "      <td>CTA Text</td>\n",
       "      <td>[15]</td>\n",
       "    </tr>\n",
       "    <tr>\n",
       "      <th>54</th>\n",
       "      <td>Update Contacts</td>\n",
       "      <td>CTA Text</td>\n",
       "      <td>[18]</td>\n",
       "    </tr>\n",
       "  </tbody>\n",
       "</table>\n",
       "<p>299 rows × 3 columns</p>\n",
       "</div>"
      ],
      "text/plain": [
       "                                                 text       col_name  \\\n",
       "0   5-day tech transfer and marketing platform dep...  Use Case Name   \n",
       "1           Acquisition ITA with property data append  Use Case Name   \n",
       "2   Application pipeline analysis to forecast fund...  Use Case Name   \n",
       "3   Auto updating CRM contacts daily for personali...  Use Case Name   \n",
       "4   Bid portfolio pricing based on runoff and reca...  Use Case Name   \n",
       "..                                                ...            ...   \n",
       "50                                         Target Now       CTA Text   \n",
       "51                                 Track Applications       CTA Text   \n",
       "52                                  Track Attribution       CTA Text   \n",
       "53                                          Track Now       CTA Text   \n",
       "54                                    Update Contacts       CTA Text   \n",
       "\n",
       "   Serial Number  \n",
       "0           [26]  \n",
       "1           [52]  \n",
       "2           [37]  \n",
       "3           [18]  \n",
       "4           [40]  \n",
       "..           ...  \n",
       "50           [5]  \n",
       "51          [16]  \n",
       "52          [17]  \n",
       "53          [15]  \n",
       "54          [18]  \n",
       "\n",
       "[299 rows x 3 columns]"
      ]
     },
     "execution_count": 26,
     "metadata": {},
     "output_type": "execute_result"
    }
   ],
   "source": [
    "text_indexes_df"
   ]
  },
  {
   "cell_type": "code",
   "execution_count": 21,
   "id": "0143a56d-19c0-426d-b207-8782db444590",
   "metadata": {},
   "outputs": [
    {
     "data": {
      "text/html": [
       "<div>\n",
       "<style scoped>\n",
       "    .dataframe tbody tr th:only-of-type {\n",
       "        vertical-align: middle;\n",
       "    }\n",
       "\n",
       "    .dataframe tbody tr th {\n",
       "        vertical-align: top;\n",
       "    }\n",
       "\n",
       "    .dataframe thead th {\n",
       "        text-align: right;\n",
       "    }\n",
       "</style>\n",
       "<table border=\"1\" class=\"dataframe\">\n",
       "  <thead>\n",
       "    <tr style=\"text-align: right;\">\n",
       "      <th></th>\n",
       "      <th>text</th>\n",
       "      <th>document_ids</th>\n",
       "    </tr>\n",
       "  </thead>\n",
       "  <tbody>\n",
       "    <tr>\n",
       "      <th>0</th>\n",
       "      <td>5-day tech transfer and marketing platform dep...</td>\n",
       "      <td>[25]</td>\n",
       "    </tr>\n",
       "    <tr>\n",
       "      <th>1</th>\n",
       "      <td>Acquisition ITA with property data append</td>\n",
       "      <td>[51]</td>\n",
       "    </tr>\n",
       "    <tr>\n",
       "      <th>2</th>\n",
       "      <td>Application pipeline analysis to forecast fund...</td>\n",
       "      <td>[36]</td>\n",
       "    </tr>\n",
       "    <tr>\n",
       "      <th>3</th>\n",
       "      <td>Auto updating CRM contacts daily for personali...</td>\n",
       "      <td>[17]</td>\n",
       "    </tr>\n",
       "    <tr>\n",
       "      <th>4</th>\n",
       "      <td>Bid portfolio pricing based on runoff and reca...</td>\n",
       "      <td>[39]</td>\n",
       "    </tr>\n",
       "    <tr>\n",
       "      <th>...</th>\n",
       "      <td>...</td>\n",
       "      <td>...</td>\n",
       "    </tr>\n",
       "    <tr>\n",
       "      <th>50</th>\n",
       "      <td>Target Now</td>\n",
       "      <td>[4]</td>\n",
       "    </tr>\n",
       "    <tr>\n",
       "      <th>51</th>\n",
       "      <td>Track Applications</td>\n",
       "      <td>[15]</td>\n",
       "    </tr>\n",
       "    <tr>\n",
       "      <th>52</th>\n",
       "      <td>Track Attribution</td>\n",
       "      <td>[16]</td>\n",
       "    </tr>\n",
       "    <tr>\n",
       "      <th>53</th>\n",
       "      <td>Track Now</td>\n",
       "      <td>[14]</td>\n",
       "    </tr>\n",
       "    <tr>\n",
       "      <th>54</th>\n",
       "      <td>Update Contacts</td>\n",
       "      <td>[17]</td>\n",
       "    </tr>\n",
       "  </tbody>\n",
       "</table>\n",
       "<p>299 rows × 2 columns</p>\n",
       "</div>"
      ],
      "text/plain": [
       "                                                 text document_ids\n",
       "0   5-day tech transfer and marketing platform dep...         [25]\n",
       "1           Acquisition ITA with property data append         [51]\n",
       "2   Application pipeline analysis to forecast fund...         [36]\n",
       "3   Auto updating CRM contacts daily for personali...         [17]\n",
       "4   Bid portfolio pricing based on runoff and reca...         [39]\n",
       "..                                                ...          ...\n",
       "50                                         Target Now          [4]\n",
       "51                                 Track Applications         [15]\n",
       "52                                  Track Attribution         [16]\n",
       "53                                          Track Now         [14]\n",
       "54                                    Update Contacts         [17]\n",
       "\n",
       "[299 rows x 2 columns]"
      ]
     },
     "execution_count": 21,
     "metadata": {},
     "output_type": "execute_result"
    }
   ],
   "source": [
    "text_df_from_df(df,text_columns=text_columns)"
   ]
  },
  {
   "cell_type": "code",
   "execution_count": 20,
   "id": "815d87fc-9b18-4339-a1dd-54bafce2f110",
   "metadata": {},
   "outputs": [],
   "source": [
    "text_columns = [ 'Use Case Name', 'Use Case Category', 'Description',\n",
    "       'Solution text', 'Result Text', 'CTA Text']\n",
    "id_column = \"Serial Number\"\n"
   ]
  },
  {
   "cell_type": "code",
   "execution_count": 16,
   "id": "6fcbbc02-5b03-40e8-aa33-e4b305d7973a",
   "metadata": {},
   "outputs": [
    {
     "data": {
      "text/plain": [
       "Index(['Serial Number', 'Use Case Name', 'Use Case Category', 'Description',\n",
       "       'Solution text', 'Result Text', 'CTA Text', 'Post_DI'],\n",
       "      dtype='object')"
      ]
     },
     "execution_count": 16,
     "metadata": {},
     "output_type": "execute_result"
    }
   ],
   "source": [
    "df.columns"
   ]
  },
  {
   "cell_type": "code",
   "execution_count": 27,
   "id": "0afdbe72-b84e-4a73-a3b2-13bcab59f688",
   "metadata": {
    "scrolled": true
   },
   "outputs": [],
   "source": [
    "df_reindex = df.reset_index()\n",
    "cols2_df = []\n",
    "for str_col in ['Title','Description']:\n",
    "    str_col2_indexs = df_reindex.groupby(str_col)['index'].apply(list).reset_index()\n",
    "    str_col2_indexs = str_col2_indexs.rename(columns={str_col:'text','index':'document_ids'})\n",
    "    cols2_df.append(str_col2_indexs)\n",
    "text_indexes_df = pd.concat(cols2_df)\n"
   ]
  },
  {
   "cell_type": "code",
   "execution_count": 34,
   "id": "89e7fdf0-be24-4351-995c-b9ccff7664a2",
   "metadata": {},
   "outputs": [
    {
     "data": {
      "text/html": [
       "<div>\n",
       "<style scoped>\n",
       "    .dataframe tbody tr th:only-of-type {\n",
       "        vertical-align: middle;\n",
       "    }\n",
       "\n",
       "    .dataframe tbody tr th {\n",
       "        vertical-align: top;\n",
       "    }\n",
       "\n",
       "    .dataframe thead th {\n",
       "        text-align: right;\n",
       "    }\n",
       "</style>\n",
       "<table border=\"1\" class=\"dataframe\">\n",
       "  <thead>\n",
       "    <tr style=\"text-align: right;\">\n",
       "      <th></th>\n",
       "      <th>text</th>\n",
       "      <th>document_ids</th>\n",
       "    </tr>\n",
       "  </thead>\n",
       "  <tbody>\n",
       "    <tr>\n",
       "      <th>0</th>\n",
       "      <td>5-day tech transfer and marketing platform dep...</td>\n",
       "      <td>[25]</td>\n",
       "    </tr>\n",
       "    <tr>\n",
       "      <th>1</th>\n",
       "      <td>Acquisition ITA with property data append</td>\n",
       "      <td>[51]</td>\n",
       "    </tr>\n",
       "    <tr>\n",
       "      <th>2</th>\n",
       "      <td>Application pipeline analysis to forecast fund...</td>\n",
       "      <td>[36]</td>\n",
       "    </tr>\n",
       "    <tr>\n",
       "      <th>3</th>\n",
       "      <td>Auto updating CRM contacts daily for personali...</td>\n",
       "      <td>[17]</td>\n",
       "    </tr>\n",
       "    <tr>\n",
       "      <th>4</th>\n",
       "      <td>Bid portfolio pricing based on runoff and reca...</td>\n",
       "      <td>[39]</td>\n",
       "    </tr>\n",
       "    <tr>\n",
       "      <th>...</th>\n",
       "      <td>...</td>\n",
       "      <td>...</td>\n",
       "    </tr>\n",
       "    <tr>\n",
       "      <th>32</th>\n",
       "      <td>Strategic Broker Targeting for Market Expansion</td>\n",
       "      <td>[4]</td>\n",
       "    </tr>\n",
       "    <tr>\n",
       "      <th>33</th>\n",
       "      <td>Strategic Pipeline Management to Forecast and ...</td>\n",
       "      <td>[36]</td>\n",
       "    </tr>\n",
       "    <tr>\n",
       "      <th>34</th>\n",
       "      <td>Streamlined Campaign Management Across Multipl...</td>\n",
       "      <td>[28]</td>\n",
       "    </tr>\n",
       "    <tr>\n",
       "      <th>35</th>\n",
       "      <td>Targeted Communication Based on Credit Activit...</td>\n",
       "      <td>[26]</td>\n",
       "    </tr>\n",
       "    <tr>\n",
       "      <th>36</th>\n",
       "      <td>Tracking Loan Payoffs with Historical Data Man...</td>\n",
       "      <td>[14]</td>\n",
       "    </tr>\n",
       "  </tbody>\n",
       "</table>\n",
       "<p>102 rows × 2 columns</p>\n",
       "</div>"
      ],
      "text/plain": [
       "                                                 text document_ids\n",
       "0   5-day tech transfer and marketing platform dep...         [25]\n",
       "1           Acquisition ITA with property data append         [51]\n",
       "2   Application pipeline analysis to forecast fund...         [36]\n",
       "3   Auto updating CRM contacts daily for personali...         [17]\n",
       "4   Bid portfolio pricing based on runoff and reca...         [39]\n",
       "..                                                ...          ...\n",
       "32    Strategic Broker Targeting for Market Expansion          [4]\n",
       "33  Strategic Pipeline Management to Forecast and ...         [36]\n",
       "34  Streamlined Campaign Management Across Multipl...         [28]\n",
       "35  Targeted Communication Based on Credit Activit...         [26]\n",
       "36  Tracking Loan Payoffs with Historical Data Man...         [14]\n",
       "\n",
       "[102 rows x 2 columns]"
      ]
     },
     "execution_count": 34,
     "metadata": {},
     "output_type": "execute_result"
    }
   ],
   "source": [
    "text_indexes_df"
   ]
  },
  {
   "cell_type": "code",
   "execution_count": null,
   "id": "6c679f2b-7eda-45d6-a974-36217339fffd",
   "metadata": {},
   "outputs": [],
   "source": []
  },
  {
   "cell_type": "code",
   "execution_count": 15,
   "id": "30435ebb-0ab8-4f0e-ba34-c0bde7f38335",
   "metadata": {},
   "outputs": [
    {
     "data": {
      "text/plain": [
       "768"
      ]
     },
     "execution_count": 15,
     "metadata": {},
     "output_type": "execute_result"
    }
   ],
   "source": [
    "import os\n",
    "\n",
    "def delete_file(file_path):\n",
    "    \"\"\"\n",
    "    Deletes a file from the specified file path.\n",
    "\n",
    "    Args:\n",
    "        file_path (str): The path to the file to be deleted.\n",
    "\n",
    "    Returns:\n",
    "        bool: True if the file was successfully deleted, False if the file does not exist.\n",
    "    \"\"\"\n",
    "    if os.path.isfile(file_path):\n",
    "        os.remove(file_path)\n",
    "        print(f\"File {file_path} deleted successfully.\")\n",
    "        return True\n",
    "    else:\n",
    "        print(f\"File {file_path} does not exist.\")\n",
    "        return False\n",
    "\n",
    "\n",
    "# Example usage\n",
    "# file_path = 'path/to/your/file.txt'\n",
    "# delete_file(file_path)\n",
    "dimension"
   ]
  },
  {
   "cell_type": "code",
   "execution_count": 16,
   "id": "3300aca0-15d5-41be-aef2-507b32812913",
   "metadata": {},
   "outputs": [],
   "source": [
    "model_name = \"sentence-transformers/all-MiniLM-L6-v2\"\n",
    "# Load model and tokenizer\n",
    "tokenizer = AutoTokenizer.from_pretrained(model_name)\n",
    "model = AutoModel.from_pretrained(model_name)\n",
    "\n",
    "dimension = model.config.hidden_size \n",
    "index = AnnoyIndex(dimension, 'dot')  # Using 'angular' distance"
   ]
  },
  {
   "cell_type": "code",
   "execution_count": 17,
   "id": "a72ca4e5-cf1c-49d7-b0f4-10f3a5b46b52",
   "metadata": {},
   "outputs": [
    {
     "data": {
      "text/plain": [
       "True"
      ]
     },
     "execution_count": 17,
     "metadata": {},
     "output_type": "execute_result"
    }
   ],
   "source": [
    "path = r\"D:\\projects\\searchEngine\\data\\vector_dbs\\Ketul.nns\"\n",
    "\n",
    "index.load(path)"
   ]
  },
  {
   "cell_type": "code",
   "execution_count": null,
   "id": "607aa38b-f5df-4681-a81e-bf894924a668",
   "metadata": {},
   "outputs": [],
   "source": []
  },
  {
   "cell_type": "code",
   "execution_count": 103,
   "id": "a043a3f7-97bd-4d8d-8dc0-d92b06bbe40a",
   "metadata": {},
   "outputs": [
    {
     "name": "stdout",
     "output_type": "stream",
     "text": [
      "Help on built-in function save:\n",
      "\n",
      "save(...) method of annoy.Annoy instance\n",
      "    Saves the index to disk.\n",
      "\n"
     ]
    }
   ],
   "source": [
    "help(index.save)"
   ]
  },
  {
   "cell_type": "code",
   "execution_count": 87,
   "id": "cbca0fe0-4a31-462f-b55f-7987eb65effd",
   "metadata": {},
   "outputs": [
    {
     "data": {
      "text/plain": [
       "(102, 384)"
      ]
     },
     "execution_count": 87,
     "metadata": {},
     "output_type": "execute_result"
    }
   ],
   "source": [
    "vectors.shape"
   ]
  },
  {
   "cell_type": "code",
   "execution_count": 85,
   "id": "08af5072-d116-49ec-8986-a6975c58e094",
   "metadata": {},
   "outputs": [],
   "source": [
    "vectors = texts_to_embeddings(text_indexes_df['text'].to_list())\n"
   ]
  },
  {
   "cell_type": "code",
   "execution_count": 89,
   "id": "da2a0c83-c7a0-48f6-bd8f-f6685b9d323c",
   "metadata": {},
   "outputs": [
    {
     "name": "stderr",
     "output_type": "stream",
     "text": [
      "C:\\Users\\lenovo\\AppData\\Local\\Temp\\ipykernel_13584\\3109577587.py:14: DeprecationWarning: Conversion of an array with ndim > 0 to a scalar is deprecated, and will error in future. Ensure you extract a single element from your array before performing this operation. (Deprecated NumPy 1.25.)\n",
      "  indices = index.get_nns_by_vector(vector,n=10, include_distances=True)  # Find 10 nearest neighbors\n",
      "C:\\Users\\lenovo\\AppData\\Local\\Temp\\ipykernel_13584\\3109577587.py:17: SettingWithCopyWarning: \n",
      "A value is trying to be set on a copy of a slice from a DataFrame.\n",
      "Try using .loc[row_indexer,col_indexer] = value instead\n",
      "\n",
      "See the caveats in the documentation: https://pandas.pydata.org/pandas-docs/stable/user_guide/indexing.html#returning-a-view-versus-a-copy\n",
      "  sel_df['distance'] = distances\n"
     ]
    },
    {
     "data": {
      "text/plain": [
       "[{'text': 'Real-time credit trigger integration for Call Centers',\n",
       "  'document_ids': [24],\n",
       "  'distance': 26.671525955200195},\n",
       " {'text': 'Call Center app to provide loan officers with borrower offer details',\n",
       "  'document_ids': [20],\n",
       "  'distance': 21.824918746948242},\n",
       " {'text': 'Call log transcripts modeling from servicing and originations',\n",
       "  'document_ids': [53],\n",
       "  'distance': 17.003925323486328},\n",
       " {'text': 'Programming IVR with loan pricing for call routing',\n",
       "  'document_ids': [18],\n",
       "  'distance': 15.611470222473145},\n",
       " {'text': 'Optimizing Call Routing with Real-Time Loan Pricing in IVR Systems',\n",
       "  'document_ids': [18],\n",
       "  'distance': 13.70603084564209},\n",
       " {'text': 'Personalized direct mail messaging',\n",
       "  'document_ids': [7],\n",
       "  'distance': 13.39556884765625},\n",
       " {'text': 'Direct Mail campaign for mortgage health checkup',\n",
       "  'document_ids': [21],\n",
       "  'distance': 12.956390380859375},\n",
       " {'text': 'Borrower benefit segmentation',\n",
       "  'document_ids': [6],\n",
       "  'distance': 11.637833595275879},\n",
       " {'text': 'Building loan tape histories for payoff tracking',\n",
       "  'document_ids': [14],\n",
       "  'distance': 10.86052131652832},\n",
       " {'text': 'Personalized messaging for credit trigger and prescreen programs',\n",
       "  'document_ids': [26],\n",
       "  'distance': 10.684146881103516}]"
      ]
     },
     "execution_count": 89,
     "metadata": {},
     "output_type": "execute_result"
    }
   ],
   "source": [
    "\n",
    "from annoy import AnnoyIndex\n",
    "dimension = vectors.shape[1]\n",
    "# [\"angular\", \"euclidean\", \"manhattan\", \"hamming\", \"dot]\n",
    "index = AnnoyIndex(dimension, 'dot')  # Using 'angular' distance\n",
    "# index = AnnoyIndex(dimension, 'euclidean')  # Using 'angular' distance\n",
    "for i, vec in enumerate(vectors):\n",
    "    index.add_item(i, vec)\n",
    "index.build(30)\n",
    "# index.save(index_path)\n",
    "\n",
    "text = \"Call Centers\"\n",
    "vector = text_to_vector(text).reshape((-1,1))\n",
    "\n",
    "indices = index.get_nns_by_vector(vector,n=10, include_distances=True)  # Find 10 nearest neighbors\n",
    "indexes,distances = indices\n",
    "sel_df = text_indexes_df.iloc[indexes]\n",
    "sel_df['distance'] = distances\n",
    "sel_df.to_dict(orient='records')"
   ]
  },
  {
   "cell_type": "code",
   "execution_count": 61,
   "id": "faac4cf3-50e5-4fb7-ab7a-0fef960b1a5b",
   "metadata": {},
   "outputs": [],
   "source": []
  },
  {
   "cell_type": "code",
   "execution_count": 62,
   "id": "5c490d24-bbec-4777-8fe9-b546494c6363",
   "metadata": {},
   "outputs": [
    {
     "data": {
      "text/html": [
       "<div>\n",
       "<style scoped>\n",
       "    .dataframe tbody tr th:only-of-type {\n",
       "        vertical-align: middle;\n",
       "    }\n",
       "\n",
       "    .dataframe tbody tr th {\n",
       "        vertical-align: top;\n",
       "    }\n",
       "\n",
       "    .dataframe thead th {\n",
       "        text-align: right;\n",
       "    }\n",
       "</style>\n",
       "<table border=\"1\" class=\"dataframe\">\n",
       "  <thead>\n",
       "    <tr style=\"text-align: right;\">\n",
       "      <th></th>\n",
       "      <th>text</th>\n",
       "      <th>document_ids</th>\n",
       "    </tr>\n",
       "  </thead>\n",
       "  <tbody>\n",
       "    <tr>\n",
       "      <th>11</th>\n",
       "      <td>Empowering Borrowers with Comprehensive Curren...</td>\n",
       "      <td>[21]</td>\n",
       "    </tr>\n",
       "    <tr>\n",
       "      <th>16</th>\n",
       "      <td>Cross-selling mortgage to other customers</td>\n",
       "      <td>[43]</td>\n",
       "    </tr>\n",
       "    <tr>\n",
       "      <th>38</th>\n",
       "      <td>Maximizing borrower benefit through no PI incr...</td>\n",
       "      <td>[9]</td>\n",
       "    </tr>\n",
       "    <tr>\n",
       "      <th>13</th>\n",
       "      <td>Enhancing Borrower Communication with Personal...</td>\n",
       "      <td>[22]</td>\n",
       "    </tr>\n",
       "    <tr>\n",
       "      <th>40</th>\n",
       "      <td>Multi-product borrower loan scenario bulk pricing</td>\n",
       "      <td>[5]</td>\n",
       "    </tr>\n",
       "    <tr>\n",
       "      <th>35</th>\n",
       "      <td>Targeted Communication Based on Credit Activit...</td>\n",
       "      <td>[26]</td>\n",
       "    </tr>\n",
       "    <tr>\n",
       "      <th>16</th>\n",
       "      <td>Enhancing Personalization through Borrower Ben...</td>\n",
       "      <td>[6]</td>\n",
       "    </tr>\n",
       "    <tr>\n",
       "      <th>19</th>\n",
       "      <td>Enabling servicing agents to use loan data for...</td>\n",
       "      <td>[19]</td>\n",
       "    </tr>\n",
       "    <tr>\n",
       "      <th>43</th>\n",
       "      <td>Paid-off loans competitor analysis for share o...</td>\n",
       "      <td>[40]</td>\n",
       "    </tr>\n",
       "    <tr>\n",
       "      <th>54</th>\n",
       "      <td>Target list to prospect brokers for wholesale ...</td>\n",
       "      <td>[4]</td>\n",
       "    </tr>\n",
       "  </tbody>\n",
       "</table>\n",
       "</div>"
      ],
      "text/plain": [
       "                                                 text document_ids\n",
       "11  Empowering Borrowers with Comprehensive Curren...         [21]\n",
       "16          Cross-selling mortgage to other customers         [43]\n",
       "38  Maximizing borrower benefit through no PI incr...          [9]\n",
       "13  Enhancing Borrower Communication with Personal...         [22]\n",
       "40  Multi-product borrower loan scenario bulk pricing          [5]\n",
       "35  Targeted Communication Based on Credit Activit...         [26]\n",
       "16  Enhancing Personalization through Borrower Ben...          [6]\n",
       "19  Enabling servicing agents to use loan data for...         [19]\n",
       "43  Paid-off loans competitor analysis for share o...         [40]\n",
       "54  Target list to prospect brokers for wholesale ...          [4]"
      ]
     },
     "execution_count": 62,
     "metadata": {},
     "output_type": "execute_result"
    }
   ],
   "source": []
  },
  {
   "cell_type": "code",
   "execution_count": null,
   "id": "9c2960c3-7a21-40ff-9491-2050fd11cb09",
   "metadata": {},
   "outputs": [],
   "source": []
  },
  {
   "cell_type": "code",
   "execution_count": 98,
   "id": "bb699a45-1065-441c-90f2-6483439eeb39",
   "metadata": {},
   "outputs": [
    {
     "data": {
      "text/plain": [
       "384"
      ]
     },
     "execution_count": 98,
     "metadata": {},
     "output_type": "execute_result"
    }
   ],
   "source": []
  },
  {
   "cell_type": "code",
   "execution_count": null,
   "id": "fcd559f2-eabc-4fd8-90e3-72fb138fe1f9",
   "metadata": {},
   "outputs": [],
   "source": []
  },
  {
   "cell_type": "code",
   "execution_count": 97,
   "id": "71318a54-74f7-4c9a-a37b-108db8eec1dd",
   "metadata": {},
   "outputs": [
    {
     "ename": "AttributeError",
     "evalue": "'Embedding' object has no attribute 'shape'",
     "output_type": "error",
     "traceback": [
      "\u001b[1;31m---------------------------------------------------------------------------\u001b[0m",
      "\u001b[1;31mAttributeError\u001b[0m                            Traceback (most recent call last)",
      "Cell \u001b[1;32mIn[97], line 2\u001b[0m\n\u001b[0;32m      1\u001b[0m f \u001b[38;5;241m=\u001b[39m model\u001b[38;5;241m.\u001b[39mget_input_embeddings()\n\u001b[1;32m----> 2\u001b[0m \u001b[43mf\u001b[49m\u001b[38;5;241;43m.\u001b[39;49m\u001b[43mshape\u001b[49m\n",
      "File \u001b[1;32mD:\\projects\\searchEngine\\venv\\lib\\site-packages\\torch\\nn\\modules\\module.py:1709\u001b[0m, in \u001b[0;36mModule.__getattr__\u001b[1;34m(self, name)\u001b[0m\n\u001b[0;32m   1707\u001b[0m     \u001b[38;5;28;01mif\u001b[39;00m name \u001b[38;5;129;01min\u001b[39;00m modules:\n\u001b[0;32m   1708\u001b[0m         \u001b[38;5;28;01mreturn\u001b[39;00m modules[name]\n\u001b[1;32m-> 1709\u001b[0m \u001b[38;5;28;01mraise\u001b[39;00m \u001b[38;5;167;01mAttributeError\u001b[39;00m(\u001b[38;5;124mf\u001b[39m\u001b[38;5;124m\"\u001b[39m\u001b[38;5;124m'\u001b[39m\u001b[38;5;132;01m{\u001b[39;00m\u001b[38;5;28mtype\u001b[39m(\u001b[38;5;28mself\u001b[39m)\u001b[38;5;241m.\u001b[39m\u001b[38;5;18m__name__\u001b[39m\u001b[38;5;132;01m}\u001b[39;00m\u001b[38;5;124m'\u001b[39m\u001b[38;5;124m object has no attribute \u001b[39m\u001b[38;5;124m'\u001b[39m\u001b[38;5;132;01m{\u001b[39;00mname\u001b[38;5;132;01m}\u001b[39;00m\u001b[38;5;124m'\u001b[39m\u001b[38;5;124m\"\u001b[39m)\n",
      "\u001b[1;31mAttributeError\u001b[0m: 'Embedding' object has no attribute 'shape'"
     ]
    }
   ],
   "source": []
  },
  {
   "cell_type": "code",
   "execution_count": 83,
   "id": "5ac6e9ae-6258-4e3e-a063-cb7fc0fb2615",
   "metadata": {},
   "outputs": [
    {
     "name": "stderr",
     "output_type": "stream",
     "text": [
      "D:\\projects\\searchEngine\\venv\\lib\\site-packages\\huggingface_hub\\file_download.py:157: UserWarning: `huggingface_hub` cache-system uses symlinks by default to efficiently store duplicated files but your machine does not support them in C:\\Users\\lenovo\\.cache\\huggingface\\hub\\models--sentence-transformers--all-MiniLM-L6-v2. Caching files will still work but in a degraded version that might require more space on your disk. This warning can be disabled by setting the `HF_HUB_DISABLE_SYMLINKS_WARNING` environment variable. For more details, see https://huggingface.co/docs/huggingface_hub/how-to-cache#limitations.\n",
      "To support symlinks on Windows, you either need to activate Developer Mode or to run Python as an administrator. In order to see activate developer mode, see this article: https://docs.microsoft.com/en-us/windows/apps/get-started/enable-your-device-for-development\n",
      "  warnings.warn(message)\n"
     ]
    }
   ],
   "source": [
    "import numpy as np\n",
    "from transformers import AutoTokenizer, AutoModel\n",
    "\n",
    "import faiss\n",
    "import pandas as pd\n",
    "import file_utils\n",
    "import document_db\n",
    "from project_path import PROJECT_PATH\n",
    "\n",
    "# \"distilbert-base-uncased\"\n",
    "\n",
    "model = \"sentence-transformers/all-MiniLM-L6-v2\"\n",
    "# Load model and tokenizer\n",
    "tokenizer = AutoTokenizer.from_pretrained(model)\n",
    "model = AutoModel.from_pretrained(model)\n",
    "dimension = 768  # Dimension of embeddings from DistilBERT\n",
    "index = faiss.IndexFlatL2(dimension)  # L2 distance for similarity search\n",
    "\n",
    "# Example usage\n",
    "db_manager = document_db.DocumentManager('my_documents.db')\n",
    "\n",
    "\n",
    "def texts_to_embeddings(texts):\n",
    "    inputs = tokenizer(texts, return_tensors=\"pt\", padding=True, truncation=True, max_length=128)\n",
    "    outputs = model(**inputs)\n",
    "    return outputs.last_hidden_state.mean(dim=1).detach().numpy()\n",
    "\n",
    "\n",
    "def text_to_vector(text):\n",
    "    \"\"\"Converts input text to a vector using DistilBERT.\"\"\"\n",
    "    inputs = tokenizer(text, return_tensors=\"pt\", padding=True, truncation=True, max_length=128)\n",
    "    outputs = model(**inputs)\n",
    "    # Use mean pooling to convert the output to a single vector per input text\n",
    "    embeddings = outputs.last_hidden_state.mean(1).detach().numpy()\n",
    "    return embeddings\n",
    "\n"
   ]
  },
  {
   "cell_type": "code",
   "execution_count": null,
   "id": "1aef4374-a335-4719-987d-d145121e1137",
   "metadata": {},
   "outputs": [],
   "source": []
  },
  {
   "cell_type": "code",
   "execution_count": null,
   "id": "cce0a2a1-0c65-4e83-95ab-663406e9ac84",
   "metadata": {},
   "outputs": [],
   "source": []
  },
  {
   "cell_type": "code",
   "execution_count": 3,
   "id": "14bf09fe-b589-47e2-8344-6f09d61a0ad3",
   "metadata": {},
   "outputs": [],
   "source": [
    "text = 'Broker sentiment'"
   ]
  },
  {
   "cell_type": "code",
   "execution_count": 8,
   "id": "6f890f13-212f-40ad-bfe1-1f26492cef2c",
   "metadata": {},
   "outputs": [],
   "source": [
    "import numpy as np\n",
    "import pandas as pd\n",
    "from transformers import AutoTokenizer, AutoModel\n",
    "import faiss\n",
    "import document_db\n",
    "\n",
    "# Load model and tokenizer\n",
    "tokenizer = AutoTokenizer.from_pretrained(\"distilbert-base-uncased\")\n",
    "model = AutoModel.from_pretrained(\"distilbert-base-uncased\")\n",
    "dimension = 768  # Dimension of embeddings from DistilBERT\n",
    "index = faiss.IndexFlatL2(dimension)  # L2 distance for similarity search\n",
    "\n",
    "db_manager = document_db.DocumentManager('my_documents.db')  # Database manager\n",
    "\n",
    "def text_to_vector(text):\n",
    "    \"\"\"Converts input text to a vector using DistilBERT.\"\"\"\n",
    "    inputs = tokenizer(text, return_tensors=\"pt\", padding=True, truncation=True, max_length=128)\n",
    "    outputs = model(**inputs)\n",
    "    # Use mean pooling to convert the output to a single vector per input text\n",
    "    return outputs.last_hidden_state.mean(1).detach().numpy()\n",
    "\n",
    "def load_and_index_data(filepath):\n",
    "    \"\"\"Load data from a CSV, convert texts to vectors, and index them in FAISS.\"\"\"\n",
    "    df = pd.read_csv(filepath)\n",
    "    print(df.columns)\n",
    "    for text in df['Title']:\n",
    "        vector = text_to_vector(text)\n",
    "        index.add(vector)  # Add the vector to FAISS index\n",
    "\n",
    "def find_similar_texts(query_text, k=5):\n",
    "    \"\"\"Find k similar texts in the index given a query text.\"\"\"\n",
    "    query_vector = text_to_vector(query_text)\n",
    "    D, I = index.search(query_vector, k)  # Perform the search\n",
    "    return D, I\n"
   ]
  },
  {
   "cell_type": "code",
   "execution_count": null,
   "id": "c3e47abd-8772-4fb7-b0eb-6bf528b2ef7e",
   "metadata": {},
   "outputs": [],
   "source": []
  },
  {
   "cell_type": "code",
   "execution_count": null,
   "id": "cbd728b7-655b-41af-8b08-7f93bb7b2602",
   "metadata": {},
   "outputs": [],
   "source": []
  },
  {
   "cell_type": "code",
   "execution_count": null,
   "id": "42ce69eb-a78a-4bcc-ad3d-27380bb5e8df",
   "metadata": {},
   "outputs": [],
   "source": []
  },
  {
   "cell_type": "code",
   "execution_count": 1,
   "id": "971ea525-06f4-4977-bbb3-28a5a8c76b23",
   "metadata": {},
   "outputs": [
    {
     "ename": "NameError",
     "evalue": "name 'load_and_index_data' is not defined",
     "output_type": "error",
     "traceback": [
      "\u001b[1;31m---------------------------------------------------------------------------\u001b[0m",
      "\u001b[1;31mNameError\u001b[0m                                 Traceback (most recent call last)",
      "Cell \u001b[1;32mIn[1], line 2\u001b[0m\n\u001b[0;32m      1\u001b[0m \u001b[38;5;66;03m# Assume you have a CSV file 'data.csv' with a column 'text' containing the texts.\u001b[39;00m\n\u001b[1;32m----> 2\u001b[0m \u001b[43mload_and_index_data\u001b[49m(\u001b[38;5;124mr\u001b[39m\u001b[38;5;124m'\u001b[39m\u001b[38;5;124mC:\u001b[39m\u001b[38;5;124m\\\u001b[39m\u001b[38;5;124mUsers\u001b[39m\u001b[38;5;124m\\\u001b[39m\u001b[38;5;124mlenovo\u001b[39m\u001b[38;5;124m\\\u001b[39m\u001b[38;5;124mDownloads\u001b[39m\u001b[38;5;124m\\\u001b[39m\u001b[38;5;124muse_cases.csv\u001b[39m\u001b[38;5;124m'\u001b[39m)\n\u001b[0;32m      5\u001b[0m \u001b[38;5;66;03m# Query for similar texts\u001b[39;00m\n\u001b[0;32m      6\u001b[0m distances, indices \u001b[38;5;241m=\u001b[39m find_similar_texts(\u001b[38;5;124m\"\u001b[39m\u001b[38;5;124mexample query text\u001b[39m\u001b[38;5;124m\"\u001b[39m)\n",
      "\u001b[1;31mNameError\u001b[0m: name 'load_and_index_data' is not defined"
     ]
    }
   ],
   "source": [
    "# Assume you have a CSV file 'data.csv' with a column 'text' containing the texts.\n",
    "load_and_index_data(r'C:\\Users\\lenovo\\Downloads\\use_cases.csv')\n",
    "\n",
    "\n",
    "# Query for similar texts\n",
    "distances, indices = find_similar_texts(\"example query text\")\n",
    "print(\"Distances:\", distances)\n",
    "print(\"Indices:\", indices)\n",
    "\n"
   ]
  },
  {
   "cell_type": "code",
   "execution_count": 4,
   "id": "d845663d-bcdb-413f-b7f6-76438580cc74",
   "metadata": {},
   "outputs": [
    {
     "name": "stdout",
     "output_type": "stream",
     "text": [
      "text to vector done\n"
     ]
    }
   ],
   "source": [
    "vector = text_to_vector(text)\n",
    "print(\"text to vector done\")\n",
    "# Search in FAISS index; k is the number of nearest neighbors you want\n"
   ]
  },
  {
   "cell_type": "code",
   "execution_count": 7,
   "id": "f7dbcc49-a31c-46e0-92c2-58ba84dd044e",
   "metadata": {},
   "outputs": [
    {
     "data": {
      "text/plain": [
       "768"
      ]
     },
     "execution_count": 7,
     "metadata": {},
     "output_type": "execute_result"
    }
   ],
   "source": [
    "index.d"
   ]
  },
  {
   "cell_type": "code",
   "execution_count": 6,
   "id": "8fc9bd4f-31a6-4e77-88ba-dcdbc9c6b34f",
   "metadata": {},
   "outputs": [
    {
     "name": "stdout",
     "output_type": "stream",
     "text": [
      "Help on method replacement_search in module faiss.class_wrappers:\n",
      "\n",
      "replacement_search(x, k, *, params=None, D=None, I=None) method of faiss.swigfaiss_avx2.IndexFlatL2 instance\n",
      "    Find the k nearest neighbors of the set of vectors x in the index.\n",
      "    \n",
      "    Parameters\n",
      "    ----------\n",
      "    x : array_like\n",
      "        Query vectors, shape (n, d) where d is appropriate for the index.\n",
      "        `dtype` must be float32.\n",
      "    k : int\n",
      "        Number of nearest neighbors.\n",
      "    params : SearchParameters\n",
      "        Search parameters of the current search (overrides the class-level params)\n",
      "    D : array_like, optional\n",
      "        Distance array to store the result.\n",
      "    I : array_like, optional\n",
      "        Labels array to store the results.\n",
      "    \n",
      "    Returns\n",
      "    -------\n",
      "    D : array_like\n",
      "        Distances of the nearest neighbors, shape (n, k). When not enough results are found\n",
      "        the label is set to +Inf or -Inf.\n",
      "    I : array_like\n",
      "        Labels of the nearest neighbors, shape (n, k).\n",
      "        When not enough results are found, the label is set to -1\n",
      "\n"
     ]
    }
   ],
   "source": [
    "help(index.search)"
   ]
  },
  {
   "cell_type": "code",
   "execution_count": 1,
   "id": "12dd499a-3f30-470a-a7a0-183f1e04adce",
   "metadata": {},
   "outputs": [
    {
     "ename": "NameError",
     "evalue": "name 'vector' is not defined",
     "output_type": "error",
     "traceback": [
      "\u001b[1;31m---------------------------------------------------------------------------\u001b[0m",
      "\u001b[1;31mNameError\u001b[0m                                 Traceback (most recent call last)",
      "Cell \u001b[1;32mIn[1], line 1\u001b[0m\n\u001b[1;32m----> 1\u001b[0m \u001b[43mvector\u001b[49m\n",
      "\u001b[1;31mNameError\u001b[0m: name 'vector' is not defined"
     ]
    }
   ],
   "source": [
    "vector"
   ]
  },
  {
   "cell_type": "code",
   "execution_count": null,
   "id": "0f6e9a68-f4d5-4e6e-a704-56c134d30b88",
   "metadata": {},
   "outputs": [],
   "source": [
    "index.search(vector, k=2)"
   ]
  },
  {
   "cell_type": "code",
   "execution_count": null,
   "id": "c2a530e3-6463-4dd0-b914-7a4e5604d9ee",
   "metadata": {},
   "outputs": [],
   "source": [
    "D = index.search(np.array([vector]), k=10)\n"
   ]
  },
  {
   "cell_type": "code",
   "execution_count": 1,
   "id": "3fa3d1ed-40ce-48e5-95c8-2d47b4724fb9",
   "metadata": {},
   "outputs": [
    {
     "ename": "NameError",
     "evalue": "name 'D' is not defined",
     "output_type": "error",
     "traceback": [
      "\u001b[1;31m---------------------------------------------------------------------------\u001b[0m",
      "\u001b[1;31mNameError\u001b[0m                                 Traceback (most recent call last)",
      "Cell \u001b[1;32mIn[1], line 1\u001b[0m\n\u001b[1;32m----> 1\u001b[0m \u001b[43mD\u001b[49m\n",
      "\u001b[1;31mNameError\u001b[0m: name 'D' is not defined"
     ]
    }
   ],
   "source": [
    "D"
   ]
  },
  {
   "cell_type": "code",
   "execution_count": null,
   "id": "1e7e59cf-64b2-4a4d-a392-773fa4fd4a15",
   "metadata": {},
   "outputs": [],
   "source": []
  }
 ],
 "metadata": {
  "kernelspec": {
   "display_name": "Python 3 (ipykernel)",
   "language": "python",
   "name": "python3"
  },
  "language_info": {
   "codemirror_mode": {
    "name": "ipython",
    "version": 3
   },
   "file_extension": ".py",
   "mimetype": "text/x-python",
   "name": "python",
   "nbconvert_exporter": "python",
   "pygments_lexer": "ipython3",
   "version": "3.9.13"
  }
 },
 "nbformat": 4,
 "nbformat_minor": 5
}
